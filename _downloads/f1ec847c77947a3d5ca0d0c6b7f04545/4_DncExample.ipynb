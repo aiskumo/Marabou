{
  "nbformat_minor": 0,
  "cells": [
    {
      "source": [
        "%matplotlib inline"
      ],
      "metadata": {
        "collapsed": false
      },
      "outputs": [],
      "execution_count": null,
      "cell_type": "code"
    },
    {
      "source": [
        "\nDNC Example\n====================\n\nTop contributors (to current version):\n  - Andrew Wu\n  - Kyle Julian\n  \nThis file is part of the Marabou project.\nCopyright (c) 2017-2019 by the authors listed in the file AUTHORS\nin the top-level source directory) and their institutional affiliations.\nAll rights reserved. See the file COPYING in the top-level source\ndirectory for licensing information.\n\n"
      ],
      "metadata": {},
      "cell_type": "markdown"
    },
    {
      "source": [
        "import sys\nimport numpy as np\n\n# Append to path if needed\n#sys.path.append(</Path/To/Marabou/>)\n\nfrom maraboupy import Marabou"
      ],
      "metadata": {
        "collapsed": false
      },
      "outputs": [],
      "execution_count": null,
      "cell_type": "code"
    },
    {
      "source": [
        "Load an example network and place an output constraint\n\n"
      ],
      "metadata": {},
      "cell_type": "markdown"
    },
    {
      "source": [
        "nnet_file_name = \"../../src/input_parsers/acas_example/ACASXU_run2a_1_1_tiny_2.nnet\"\nnet = Marabou.read_nnet(nnet_file_name)\nnet.setLowerBound(net.outputVars[0][0], .5)"
      ],
      "metadata": {
        "collapsed": false
      },
      "outputs": [],
      "execution_count": null,
      "cell_type": "code"
    },
    {
      "source": [
        "Solve the query with DNC mode turned on, which should return satisfying variable values\n\n"
      ],
      "metadata": {},
      "cell_type": "markdown"
    },
    {
      "source": [
        "options = Marabou.createOptions(dnc=True, verbosity=0, initialDivides=2);\nvals, stats = net.solve(options=options)\nassert len(vals) > 0"
      ],
      "metadata": {
        "collapsed": false
      },
      "outputs": [],
      "execution_count": null,
      "cell_type": "code"
    }
  ],
  "nbformat": 4,
  "metadata": {
    "language_info": {
      "mimetype": "text/x-python",
      "name": "python",
      "codemirror_mode": {
        "name": "ipython",
        "version": 3
      },
      "version": "3.5.2",
      "nbconvert_exporter": "python",
      "pygments_lexer": "ipython3",
      "file_extension": ".py"
    },
    "kernelspec": {
      "language": "python",
      "display_name": "Python 3",
      "name": "python3"
    }
  }
}